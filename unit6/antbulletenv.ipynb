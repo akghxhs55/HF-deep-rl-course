{
 "cells": [
  {
   "cell_type": "code",
   "execution_count": 4,
   "metadata": {},
   "outputs": [],
   "source": [
    "import pybullet_envs\n",
    "import panda_gym\n",
    "import gym\n",
    "\n",
    "import os\n",
    "\n",
    "from huggingface_sb3 import load_from_hub, package_to_hub\n",
    "\n",
    "from stable_baselines3 import A2C\n",
    "from stable_baselines3.common.evaluation import evaluate_policy\n",
    "from stable_baselines3.common.vec_env import DummyVecEnv, VecNormalize\n",
    "from stable_baselines3.common.env_util import make_vec_env\n",
    "\n",
    "from huggingface_hub import notebook_login"
   ]
  },
  {
   "cell_type": "code",
   "execution_count": 5,
   "metadata": {},
   "outputs": [],
   "source": [
    "env_id = \"AntBulletEnv-v0\"\n",
    "\n",
    "env = gym.make(env_id)\n",
    "\n",
    "s_size = env.observation_space.shape[0]\n",
    "a_size = env.action_space"
   ]
  },
  {
   "cell_type": "code",
   "execution_count": 6,
   "metadata": {},
   "outputs": [],
   "source": [
    "env = make_vec_env(env_id, n_envs=4)\n",
    "\n",
    "env = VecNormalize(env, norm_obs=True, norm_reward=True, clip_obs=10.0)"
   ]
  },
  {
   "cell_type": "code",
   "execution_count": 7,
   "metadata": {},
   "outputs": [
    {
     "name": "stdout",
     "output_type": "stream",
     "text": [
      "Using cuda device\n"
     ]
    }
   ],
   "source": [
    "model = A2C(\n",
    "    policy=\"MlpPolicy\",\n",
    "    env=env,\n",
    "    gae_lambda=0.9,\n",
    "    gamma=0.99,\n",
    "    learning_rate=0.00096,\n",
    "    max_grad_norm=0.5,\n",
    "    n_steps=8,\n",
    "    vf_coef=0.4,\n",
    "    ent_coef=0.0,\n",
    "    policy_kwargs=dict(log_std_init=-2, ortho_init=False),\n",
    "    normalize_advantage=False,\n",
    "    use_rms_prop=True,\n",
    "    use_sde=True,\n",
    "    verbose=1,\n",
    ")"
   ]
  },
  {
   "cell_type": "code",
   "execution_count": null,
   "metadata": {},
   "outputs": [],
   "source": [
    "model.learn(2_000_000)"
   ]
  },
  {
   "cell_type": "code",
   "execution_count": 9,
   "metadata": {},
   "outputs": [],
   "source": [
    "model.save(\"a2c-AntBulletEnv-v0\")\n",
    "env.save(\"vec_normalize.pkl\")"
   ]
  },
  {
   "cell_type": "code",
   "execution_count": 10,
   "metadata": {},
   "outputs": [
    {
     "name": "stdout",
     "output_type": "stream",
     "text": [
      "Mean reward = 1551.01 +/- 323.95\n"
     ]
    }
   ],
   "source": [
    "from stable_baselines3.common.vec_env import DummyVecEnv, VecNormalize\n",
    "\n",
    "eval_env = DummyVecEnv([lambda: gym.make(\"AntBulletEnv-v0\")])\n",
    "eval_env = VecNormalize.load(\"vec_normalize.pkl\", eval_env)\n",
    "\n",
    "eval_env.training = False\n",
    "eval_env.norm_reward = False\n",
    "\n",
    "model = A2C.load(\"a2c-AntBulletEnv-v0\")\n",
    "\n",
    "mean_reward, std_reward = evaluate_policy(model, env)\n",
    "\n",
    "print(f\"Mean reward = {mean_reward:.2f} +/- {std_reward:.2f}\")"
   ]
  },
  {
   "cell_type": "code",
   "execution_count": 12,
   "metadata": {},
   "outputs": [
    {
     "name": "stdout",
     "output_type": "stream",
     "text": [
      "\u001b[38;5;4mℹ This function will save, evaluate, generate a video of your agent,\n",
      "create a model card and push everything to the hub. It might take up to 1min.\n",
      "This is a work in progress: if you encounter a bug, please open an issue.\u001b[0m\n",
      "Saving video to /tmp/tmptg7trqa0/-step-0-to-step-1000.mp4\n"
     ]
    },
    {
     "name": "stderr",
     "output_type": "stream",
     "text": [
      "ffmpeg version 4.2.7-0ubuntu0.1 Copyright (c) 2000-2022 the FFmpeg developers\n",
      "  built with gcc 9 (Ubuntu 9.4.0-1ubuntu1~20.04.1)\n",
      "  configuration: --prefix=/usr --extra-version=0ubuntu0.1 --toolchain=hardened --libdir=/usr/lib/x86_64-linux-gnu --incdir=/usr/include/x86_64-linux-gnu --arch=amd64 --enable-gpl --disable-stripping --enable-avresample --disable-filter=resample --enable-avisynth --enable-gnutls --enable-ladspa --enable-libaom --enable-libass --enable-libbluray --enable-libbs2b --enable-libcaca --enable-libcdio --enable-libcodec2 --enable-libflite --enable-libfontconfig --enable-libfreetype --enable-libfribidi --enable-libgme --enable-libgsm --enable-libjack --enable-libmp3lame --enable-libmysofa --enable-libopenjpeg --enable-libopenmpt --enable-libopus --enable-libpulse --enable-librsvg --enable-librubberband --enable-libshine --enable-libsnappy --enable-libsoxr --enable-libspeex --enable-libssh --enable-libtheora --enable-libtwolame --enable-libvidstab --enable-libvorbis --enable-libvpx --enable-libwavpack --enable-libwebp --enable-libx265 --enable-libxml2 --enable-libxvid --enable-libzmq --enable-libzvbi --enable-lv2 --enable-omx --enable-openal --enable-opencl --enable-opengl --enable-sdl2 --enable-libdc1394 --enable-libdrm --enable-libiec61883 --enable-nvenc --enable-chromaprint --enable-frei0r --enable-libx264 --enable-shared\n",
      "  libavutil      56. 31.100 / 56. 31.100\n",
      "  libavcodec     58. 54.100 / 58. 54.100\n",
      "  libavformat    58. 29.100 / 58. 29.100\n",
      "  libavdevice    58.  8.100 / 58.  8.100\n",
      "  libavfilter     7. 57.100 /  7. 57.100\n",
      "  libavresample   4.  0.  0 /  4.  0.  0\n",
      "  libswscale      5.  5.100 /  5.  5.100\n",
      "  libswresample   3.  5.100 /  3.  5.100\n",
      "  libpostproc    55.  5.100 / 55.  5.100\n",
      "Input #0, mov,mp4,m4a,3gp,3g2,mj2, from '/tmp/tmptg7trqa0/-step-0-to-step-1000.mp4':\n",
      "  Metadata:\n",
      "    major_brand     : isom\n",
      "    minor_version   : 512\n",
      "    compatible_brands: isomiso2avc1mp41\n",
      "    encoder         : Lavf58.29.100\n",
      "  Duration: 00:00:16.68, start: 0.000000, bitrate: 578 kb/s\n",
      "    Stream #0:0(und): Video: h264 (High) (avc1 / 0x31637661), yuv420p, 320x240, 572 kb/s, 60 fps, 60 tbr, 15360 tbn, 120 tbc (default)\n",
      "    Metadata:\n",
      "      handler_name    : VideoHandler\n",
      "Stream mapping:\n",
      "  Stream #0:0 -> #0:0 (h264 (native) -> h264 (libx264))\n",
      "Press [q] to stop, [?] for help\n",
      "[libx264 @ 0x560868d37dc0] using cpu capabilities: MMX2 SSE2Fast SSSE3 SSE4.2 AVX FMA3 BMI2 AVX2\n",
      "[libx264 @ 0x560868d37dc0] profile High, level 2.1\n",
      "[libx264 @ 0x560868d37dc0] 264 - core 155 r2917 0a84d98 - H.264/MPEG-4 AVC codec - Copyleft 2003-2018 - http://www.videolan.org/x264.html - options: cabac=1 ref=3 deblock=1:0:0 analyse=0x3:0x113 me=hex subme=7 psy=1 psy_rd=1.00:0.00 mixed_ref=1 me_range=16 chroma_me=1 trellis=1 8x8dct=1 cqm=0 deadzone=21,11 fast_pskip=1 chroma_qp_offset=-2 threads=7 lookahead_threads=1 sliced_threads=0 nr=0 decimate=1 interlaced=0 bluray_compat=0 constrained_intra=0 bframes=3 b_pyramid=2 b_adapt=1 b_bias=0 direct=1 weightb=1 open_gop=0 weightp=2 keyint=250 keyint_min=25 scenecut=40 intra_refresh=0 rc_lookahead=40 rc=crf mbtree=1 crf=23.0 qcomp=0.60 qpmin=0 qpmax=69 qpstep=4 ip_ratio=1.40 aq=1:1.00\n",
      "Output #0, mp4, to '/tmp/tmptn34zt80/replay.mp4':\n",
      "  Metadata:\n",
      "    major_brand     : isom\n",
      "    minor_version   : 512\n",
      "    compatible_brands: isomiso2avc1mp41\n",
      "    encoder         : Lavf58.29.100\n",
      "    Stream #0:0(und): Video: h264 (libx264) (avc1 / 0x31637661), yuv420p, 320x240, q=-1--1, 60 fps, 15360 tbn, 60 tbc (default)\n",
      "    Metadata:\n",
      "      handler_name    : VideoHandler\n",
      "      encoder         : Lavc58.54.100 libx264\n",
      "    Side data:\n",
      "      cpb: bitrate max/min/avg: 0/0/0 buffer size: 0 vbv_delay: -1\n",
      "frame= 1001 fps=0.0 q=-1.0 Lsize=    1071kB time=00:00:16.63 bitrate= 527.3kbits/s speed=34.8x    \n",
      "video:1058kB audio:0kB subtitle:0kB other streams:0kB global headers:0kB muxing overhead: 1.170577%\n",
      "[libx264 @ 0x560868d37dc0] frame I:5     Avg QP:24.49  size:  8242\n",
      "[libx264 @ 0x560868d37dc0] frame P:290   Avg QP:26.91  size:  2272\n",
      "[libx264 @ 0x560868d37dc0] frame B:706   Avg QP:33.80  size:   542\n",
      "[libx264 @ 0x560868d37dc0] consecutive B-frames:  2.1% 10.0%  4.8% 83.1%\n",
      "[libx264 @ 0x560868d37dc0] mb I  I16..4: 25.1%  7.8% 67.1%\n",
      "[libx264 @ 0x560868d37dc0] mb P  I16..4:  4.3%  1.8%  2.1%  P16..4: 28.4% 28.6% 13.3%  0.0%  0.0%    skip:21.3%\n",
      "[libx264 @ 0x560868d37dc0] mb B  I16..4:  0.2%  0.0%  0.0%  B16..8: 46.2% 14.3%  2.4%  direct: 1.4%  skip:35.4%  L0:47.1% L1:50.0% BI: 2.9%\n",
      "[libx264 @ 0x560868d37dc0] 8x8 transform intra:19.5% inter:16.8%\n",
      "[libx264 @ 0x560868d37dc0] coded y,uvDC,uvAC intra: 21.5% 55.7% 45.3% inter: 8.7% 6.8% 2.4%\n",
      "[libx264 @ 0x560868d37dc0] i16 v,h,dc,p: 27% 68%  4%  0%\n",
      "[libx264 @ 0x560868d37dc0] i8 v,h,dc,ddl,ddr,vr,hd,vl,hu:  7%  6% 84%  0%  0%  0%  1%  0%  1%\n",
      "[libx264 @ 0x560868d37dc0] i4 v,h,dc,ddl,ddr,vr,hd,vl,hu: 19% 37% 24%  3%  3%  3%  5%  2%  4%\n",
      "[libx264 @ 0x560868d37dc0] i8c dc,h,v,p: 30% 53% 16%  1%\n",
      "[libx264 @ 0x560868d37dc0] Weighted P-Frames: Y:0.0% UV:0.0%\n",
      "[libx264 @ 0x560868d37dc0] ref P L0: 62.4%  5.9% 20.6% 11.2%\n",
      "[libx264 @ 0x560868d37dc0] ref B L0: 85.2% 11.5%  3.3%\n",
      "[libx264 @ 0x560868d37dc0] ref B L1: 95.0%  5.0%\n",
      "[libx264 @ 0x560868d37dc0] kb/s:519.34\n"
     ]
    },
    {
     "name": "stdout",
     "output_type": "stream",
     "text": [
      "\u001b[38;5;4mℹ Pushing repo akghxhs55/a2c-AntBulletEnv-v0 to the Hugging Face\n",
      "Hub\u001b[0m\n"
     ]
    },
    {
     "name": "stderr",
     "output_type": "stream",
     "text": [
      "\n",
      "\u001b[A\n",
      "\n",
      "\n",
      "\u001b[A\u001b[A\u001b[A\n",
      "\n",
      "vec_normalize.pkl:   0%|          | 0.00/2.22k [00:00<?, ?B/s]\n",
      "\n",
      "\n",
      "\n",
      "\u001b[A\u001b[A\u001b[A\u001b[A\n",
      "\n",
      "\n",
      "\u001b[A\u001b[A\u001b[A\n",
      "vec_normalize.pkl: 100%|██████████| 2.22k/2.22k [00:00<00:00, 3.77kB/s]\n",
      "\n",
      "\u001b[A\u001b[A\n",
      "\n",
      "vec_normalize.pkl: 100%|██████████| 2.22k/2.22k [00:01<00:00, 1.38kB/s]\n",
      "policy.pth: 100%|██████████| 57.0k/57.0k [00:01<00:00, 28.5kB/s]\n",
      "policy.optimizer.pth: 100%|██████████| 56.2k/56.2k [00:01<00:00, 28.1kB/s]\n",
      "a2c-AntBulletEnv-v0.zip: 100%|██████████| 129k/129k [00:02<00:00, 57.6kB/s]\n",
      "\n",
      "\n",
      "\n",
      "\n",
      "replay.mp4: 100%|██████████| 1.10M/1.10M [00:02<00:00, 396kB/s] \n",
      "\n",
      "\n",
      "\n",
      "\n",
      "pytorch_variables.pth: 100%|██████████| 431/431 [00:01<00:00, 262B/s]\n",
      "\n",
      "\n",
      "\n",
      "\n",
      "Upload 6 LFS files: 100%|██████████| 6/6 [00:03<00:00,  1.84it/s]\n"
     ]
    },
    {
     "name": "stdout",
     "output_type": "stream",
     "text": [
      "\u001b[38;5;4mℹ Your model is pushed to the Hub. You can view your model here:\n",
      "https://huggingface.co/akghxhs55/a2c-AntBulletEnv-v0/tree/main/\u001b[0m\n"
     ]
    },
    {
     "data": {
      "text/plain": [
       "'https://huggingface.co/akghxhs55/a2c-AntBulletEnv-v0/tree/main/'"
      ]
     },
     "execution_count": 12,
     "metadata": {},
     "output_type": "execute_result"
    }
   ],
   "source": [
    "package_to_hub(\n",
    "    model=model,\n",
    "    model_name=f\"a2c-{env_id}\",\n",
    "    model_architecture=\"A2C\",\n",
    "    env_id=env_id,\n",
    "    eval_env=eval_env,\n",
    "    repo_id=f\"akghxhs55/a2c-{env_id}\",\n",
    "    commit_message=\"Initial commit\",\n",
    ")"
   ]
  }
 ],
 "metadata": {
  "kernelspec": {
   "display_name": ".env",
   "language": "python",
   "name": "python3"
  },
  "language_info": {
   "codemirror_mode": {
    "name": "ipython",
    "version": 3
   },
   "file_extension": ".py",
   "mimetype": "text/x-python",
   "name": "python",
   "nbconvert_exporter": "python",
   "pygments_lexer": "ipython3",
   "version": "3.8.10"
  },
  "orig_nbformat": 4,
  "vscode": {
   "interpreter": {
    "hash": "0c4f0860d518ce6b0b27e572d3ce3af2ffb3b158d43e8b4edaa38ed0f7997288"
   }
  }
 },
 "nbformat": 4,
 "nbformat_minor": 2
}
